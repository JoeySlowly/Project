{
 "cells": [
  {
   "cell_type": "code",
   "execution_count": 2,
   "metadata": {},
   "outputs": [],
   "source": [
    "import plotly.io as pio\n",
    "\n",
    "pio.renderers.default = \"vscode+jupyterlab+notebook_connected\""
   ]
  },
  {
   "cell_type": "markdown",
   "metadata": {},
   "source": [
    "# Project 1\n",
    "## Part 1 \n",
    "Data set: Crime Data from 2020 to Present\n",
    "The column we choose: Victim Age \n"
   ]
  },
  {
   "cell_type": "code",
   "execution_count": 3,
   "metadata": {},
   "outputs": [
    {
     "name": "stdout",
     "output_type": "stream",
     "text": [
      "       DR_NO               Date Rptd                DATE OCC  TIME OCC  AREA  \\\n",
      "0  190326475  03/01/2020 12:00:00 AM  03/01/2020 12:00:00 AM      2130     7   \n",
      "1  200106753  02/09/2020 12:00:00 AM  02/08/2020 12:00:00 AM      1800     1   \n",
      "2  200320258  11/11/2020 12:00:00 AM  11/04/2020 12:00:00 AM      1700     3   \n",
      "3  200907217  05/10/2023 12:00:00 AM  03/10/2020 12:00:00 AM      2037     9   \n",
      "4  200412582  09/09/2020 12:00:00 AM  09/09/2020 12:00:00 AM       630     4   \n",
      "\n",
      "    AREA NAME  Rpt Dist No  Part 1-2  Crm Cd  \\\n",
      "0    Wilshire          784         1     510   \n",
      "1     Central          182         1     330   \n",
      "2   Southwest          356         1     480   \n",
      "3    Van Nuys          964         1     343   \n",
      "4  Hollenbeck          413         1     510   \n",
      "\n",
      "                                Crm Cd Desc  ... Status   Status Desc  \\\n",
      "0                          VEHICLE - STOLEN  ...     AA  Adult Arrest   \n",
      "1                     BURGLARY FROM VEHICLE  ...     IC   Invest Cont   \n",
      "2                             BIKE - STOLEN  ...     IC   Invest Cont   \n",
      "3  SHOPLIFTING-GRAND THEFT ($950.01 & OVER)  ...     IC   Invest Cont   \n",
      "4                          VEHICLE - STOLEN  ...     IC   Invest Cont   \n",
      "\n",
      "  Crm Cd 1 Crm Cd 2  Crm Cd 3 Crm Cd 4  \\\n",
      "0    510.0    998.0       NaN      NaN   \n",
      "1    330.0    998.0       NaN      NaN   \n",
      "2    480.0      NaN       NaN      NaN   \n",
      "3    343.0      NaN       NaN      NaN   \n",
      "4    510.0      NaN       NaN      NaN   \n",
      "\n",
      "                                   LOCATION Cross Street      LAT       LON  \n",
      "0   1900 S  LONGWOOD                     AV          NaN  34.0375 -118.3506  \n",
      "1   1000 S  FLOWER                       ST          NaN  34.0444 -118.2628  \n",
      "2   1400 W  37TH                         ST          NaN  34.0210 -118.3002  \n",
      "3  14000    RIVERSIDE                    DR          NaN  34.1576 -118.4387  \n",
      "4                          200 E  AVENUE 28          NaN  34.0820 -118.2130  \n",
      "\n",
      "[5 rows x 28 columns]\n"
     ]
    }
   ],
   "source": [
    "import pandas as pd\n",
    "\n",
    "url = \"https://data.lacity.org/api/views/2nrs-mtv8/rows.csv?accessType=DOWNLOAD\"\n",
    "\n",
    "df = pd.read_csv(url)\n",
    "print(df.head())"
   ]
  },
  {
   "cell_type": "markdown",
   "metadata": {},
   "source": [
    "Do the calculation."
   ]
  },
  {
   "cell_type": "code",
   "execution_count": 4,
   "metadata": {},
   "outputs": [
    {
     "name": "stdout",
     "output_type": "stream",
     "text": [
      "mean age: 28.934301576798635\n",
      "median age: 30.0\n",
      "mode age: 0\n"
     ]
    }
   ],
   "source": [
    "vict_age = df['Vict Age'].dropna()\n",
    "mean_age = vict_age.mean()\n",
    "median_age = vict_age.median()\n",
    "mode_age = vict_age.mode()\n",
    "mode_age = mode_age[0]\n",
    "\n",
    "print(f\"mean age: {mean_age}\")\n",
    "print(f\"median age: {median_age}\")\n",
    "print(f\"mode age: {mode_age}\")"
   ]
  },
  {
   "cell_type": "markdown",
   "metadata": {},
   "source": [
    "## Part 2 \n",
    "First, make sure you get the right dataset. "
   ]
  },
  {
   "cell_type": "code",
   "execution_count": 5,
   "metadata": {},
   "outputs": [],
   "source": [
    "\n",
    "import requests\n",
    "import csv\n",
    "url = 'https://data.lacity.org/api/views/2nrs-mtv8/rows.csv?accessType=DOWNLOAD'\n",
    "response = requests.get(url)\n",
    "response.raise_for_status() \n",
    "lines = response.text.splitlines()"
   ]
  },
  {
   "cell_type": "markdown",
   "metadata": {},
   "source": [
    "Get the column we need: victim age."
   ]
  },
  {
   "cell_type": "code",
   "execution_count": 6,
   "metadata": {},
   "outputs": [],
   "source": [
    "ages = []\n",
    "reader = csv.DictReader(lines)\n",
    "for row in reader:\n",
    "    if row['Vict Age']:\n",
    "        ages.append(int(row['Vict Age']))"
   ]
  },
  {
   "cell_type": "markdown",
   "metadata": {},
   "source": [
    "Do the calculation."
   ]
  },
  {
   "cell_type": "code",
   "execution_count": 7,
   "metadata": {},
   "outputs": [
    {
     "name": "stdout",
     "output_type": "stream",
     "text": [
      "mean age: 28.934301576798635\n",
      "median age: 30\n",
      "mode: 0\n"
     ]
    }
   ],
   "source": [
    "# get the mean age\n",
    "mean_age = sum(ages) / len(ages)\n",
    "print(f\"mean age: {mean_age}\")\n",
    "\n",
    "# get the median age, discussed seperately when n is odd\n",
    "sorted_ages = sorted(ages)\n",
    "n = len(sorted_ages)\n",
    "if n % 2 == 1:  \n",
    "    median_age = sorted_ages[n // 2]\n",
    "else:  \n",
    "    median_age = (sorted_ages[n // 2 - 1] + sorted_ages[n // 2]) / 2\n",
    "\n",
    "print(f\"median age: {median_age}\")\n",
    "\n",
    "# get the mode \n",
    "\n",
    "from collections import Counter\n",
    "age_counts = Counter(ages)\n",
    "max_count = max(age_counts.values())\n",
    "modes = [age for age, count in age_counts.items() if count == max_count]\n",
    "mode_age = modes[0] \n",
    "print(f\"mode: {mode_age}\")"
   ]
  },
  {
   "cell_type": "markdown",
   "metadata": {},
   "source": [
    "## Data Visualization "
   ]
  },
  {
   "cell_type": "markdown",
   "metadata": {},
   "source": [
    "Categorize age groups."
   ]
  },
  {
   "cell_type": "code",
   "execution_count": 8,
   "metadata": {},
   "outputs": [],
   "source": [
    "bins = [0, 10, 20, 30, 40, 50, 60, 70, 80, 90, 100]\n",
    "age_groups = pd.cut(vict_age, bins=bins)\n",
    "age_counts = age_groups.value_counts().sort_index()"
   ]
  },
  {
   "cell_type": "markdown",
   "metadata": {},
   "source": [
    "Generate sparkline."
   ]
  },
  {
   "cell_type": "code",
   "execution_count": 9,
   "metadata": {},
   "outputs": [
    {
     "name": "stdout",
     "output_type": "stream",
     "text": [
      "Victim Age Distribution (Sparkline):\n",
      "(0, 10]:  (5309)\n",
      "(10, 20]: █████ (47892)\n",
      "(20, 30]: ████████████████████ (186989)\n",
      "(30, 40]: ███████████████████ (184722)\n",
      "(40, 50]: █████████████ (124627)\n",
      "(50, 60]: █████████ (92262)\n",
      "(60, 70]: █████ (53689)\n",
      "(70, 80]: ██ (20608)\n",
      "(80, 90]:  (5653)\n",
      "(90, 100]:  (1324)\n"
     ]
    }
   ],
   "source": [
    "def generate_sparkline(data):\n",
    "    max_count = max(data.values) \n",
    "    for age_range, count in data.items():\n",
    "        num_stars = int((count / max_count) * 20)  \n",
    "        print(f\"{age_range}: {'█' * num_stars} ({count})\")\n",
    "\n",
    "\n",
    "print(\"Victim Age Distribution (Sparkline):\")\n",
    "generate_sparkline(age_counts)"
   ]
  }
 ],
 "metadata": {
  "kernelspec": {
   "display_name": "study",
   "language": "python",
   "name": "python3"
  },
  "language_info": {
   "codemirror_mode": {
    "name": "ipython",
    "version": 3
   },
   "file_extension": ".py",
   "mimetype": "text/x-python",
   "name": "python",
   "nbconvert_exporter": "python",
   "pygments_lexer": "ipython3",
   "version": "3.10.0"
  }
 },
 "nbformat": 4,
 "nbformat_minor": 2
}
